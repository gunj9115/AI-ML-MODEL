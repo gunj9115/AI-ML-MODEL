{
 "cells": [
  {
   "cell_type": "markdown",
   "id": "41e2ec89-70e1-453b-a5c5-7bee382129a8",
   "metadata": {},
   "source": [
    "FOR BATTERY HEALTH AND CHARGINGS "
   ]
  },
  {
   "cell_type": "code",
   "execution_count": 22,
   "id": "0f1bcc99-8ac3-4a21-868d-b19ed38c8267",
   "metadata": {},
   "outputs": [
    {
     "data": {
      "text/html": [
       "<div>\n",
       "<style scoped>\n",
       "    .dataframe tbody tr th:only-of-type {\n",
       "        vertical-align: middle;\n",
       "    }\n",
       "\n",
       "    .dataframe tbody tr th {\n",
       "        vertical-align: top;\n",
       "    }\n",
       "\n",
       "    .dataframe thead th {\n",
       "        text-align: right;\n",
       "    }\n",
       "</style>\n",
       "<table border=\"1\" class=\"dataframe\">\n",
       "  <thead>\n",
       "    <tr style=\"text-align: right;\">\n",
       "      <th></th>\n",
       "      <th>cycles</th>\n",
       "      <th>temperature_C</th>\n",
       "      <th>voltage_V</th>\n",
       "      <th>current_A</th>\n",
       "      <th>usage_hours</th>\n",
       "      <th>health_percent</th>\n",
       "    </tr>\n",
       "  </thead>\n",
       "  <tbody>\n",
       "    <tr>\n",
       "      <th>0</th>\n",
       "      <td>202</td>\n",
       "      <td>44.447738</td>\n",
       "      <td>3.626605</td>\n",
       "      <td>0.531674</td>\n",
       "      <td>4941</td>\n",
       "      <td>27.155679</td>\n",
       "    </tr>\n",
       "    <tr>\n",
       "      <th>1</th>\n",
       "      <td>535</td>\n",
       "      <td>31.620976</td>\n",
       "      <td>3.794479</td>\n",
       "      <td>0.650966</td>\n",
       "      <td>2654</td>\n",
       "      <td>37.223707</td>\n",
       "    </tr>\n",
       "    <tr>\n",
       "      <th>2</th>\n",
       "      <td>960</td>\n",
       "      <td>30.432937</td>\n",
       "      <td>3.733283</td>\n",
       "      <td>0.414273</td>\n",
       "      <td>1666</td>\n",
       "      <td>26.210119</td>\n",
       "    </tr>\n",
       "    <tr>\n",
       "      <th>3</th>\n",
       "      <td>370</td>\n",
       "      <td>32.724834</td>\n",
       "      <td>3.504804</td>\n",
       "      <td>0.394170</td>\n",
       "      <td>3874</td>\n",
       "      <td>32.942550</td>\n",
       "    </tr>\n",
       "    <tr>\n",
       "      <th>4</th>\n",
       "      <td>206</td>\n",
       "      <td>32.936192</td>\n",
       "      <td>3.696022</td>\n",
       "      <td>0.569270</td>\n",
       "      <td>1577</td>\n",
       "      <td>64.049142</td>\n",
       "    </tr>\n",
       "    <tr>\n",
       "      <th>5</th>\n",
       "      <td>171</td>\n",
       "      <td>37.978218</td>\n",
       "      <td>3.766729</td>\n",
       "      <td>0.545754</td>\n",
       "      <td>2797</td>\n",
       "      <td>52.086535</td>\n",
       "    </tr>\n",
       "    <tr>\n",
       "      <th>6</th>\n",
       "      <td>800</td>\n",
       "      <td>25.042311</td>\n",
       "      <td>3.687141</td>\n",
       "      <td>0.602884</td>\n",
       "      <td>341</td>\n",
       "      <td>49.077307</td>\n",
       "    </tr>\n",
       "    <tr>\n",
       "      <th>7</th>\n",
       "      <td>120</td>\n",
       "      <td>37.130129</td>\n",
       "      <td>3.431459</td>\n",
       "      <td>0.556979</td>\n",
       "      <td>2859</td>\n",
       "      <td>54.270961</td>\n",
       "    </tr>\n",
       "    <tr>\n",
       "      <th>8</th>\n",
       "      <td>714</td>\n",
       "      <td>32.293573</td>\n",
       "      <td>4.040286</td>\n",
       "      <td>0.443224</td>\n",
       "      <td>4796</td>\n",
       "      <td>10.000000</td>\n",
       "    </tr>\n",
       "    <tr>\n",
       "      <th>9</th>\n",
       "      <td>221</td>\n",
       "      <td>38.884115</td>\n",
       "      <td>3.717540</td>\n",
       "      <td>0.543219</td>\n",
       "      <td>1039</td>\n",
       "      <td>66.894765</td>\n",
       "    </tr>\n",
       "  </tbody>\n",
       "</table>\n",
       "</div>"
      ],
      "text/plain": [
       "   cycles  temperature_C  voltage_V  current_A  usage_hours  health_percent\n",
       "0     202      44.447738   3.626605   0.531674         4941       27.155679\n",
       "1     535      31.620976   3.794479   0.650966         2654       37.223707\n",
       "2     960      30.432937   3.733283   0.414273         1666       26.210119\n",
       "3     370      32.724834   3.504804   0.394170         3874       32.942550\n",
       "4     206      32.936192   3.696022   0.569270         1577       64.049142\n",
       "5     171      37.978218   3.766729   0.545754         2797       52.086535\n",
       "6     800      25.042311   3.687141   0.602884          341       49.077307\n",
       "7     120      37.130129   3.431459   0.556979         2859       54.270961\n",
       "8     714      32.293573   4.040286   0.443224         4796       10.000000\n",
       "9     221      38.884115   3.717540   0.543219         1039       66.894765"
      ]
     },
     "execution_count": 22,
     "metadata": {},
     "output_type": "execute_result"
    }
   ],
   "source": [
    "#HERE WE ADD THE DATA OF THE BATTERY IN CHARGING CYCLES,TEMPERATURE,VOLTAGE,AMPERE AND USAGE HOURS \n",
    "import pandas as pd\n",
    "import numpy as np\n",
    "\n",
    "np.random.seed(42)\n",
    "n = 500 \n",
    "\n",
    "#NOW ITS TRAINING TIME \n",
    "data = pd.DataFrame({\n",
    "    'cycles': np.random.randint(100, 1000, n),\n",
    "    'temperature_C': np.random.normal(35, 5, n),\n",
    "    'voltage_V': np.random.normal(3.7, 0.2, n),\n",
    "    'current_A': np.random.normal(0.5, 0.1, n),\n",
    "    'usage_hours': np.random.randint(200, 5000, n)\n",
    "})\n",
    "\n",
    "data['health_percent'] = 100 - (data['cycles']*0.05 + data['temperature_C']*0.3 + data['usage_hours']*0.01)\n",
    "\n",
    "data['health_percent'] = data['health_percent'].clip(lower=10)\n",
    "\n",
    "data.head(10)"
   ]
  },
  {
   "cell_type": "code",
   "execution_count": 9,
   "id": "7b29aa17-2a5a-4e9e-80ca-67d020608904",
   "metadata": {},
   "outputs": [
    {
     "name": "stdout",
     "output_type": "stream",
     "text": [
      "Linear Regression MAE: 1.59\n",
      "R² Score: 0.97\n"
     ]
    }
   ],
   "source": [
    "#USING LINEAR REGRESSION MODEL WE PREDICT THE BATTERY HEALTH \n",
    "\n",
    "from sklearn.linear_model import LinearRegression\n",
    "from sklearn.metrics import mean_absolute_error, r2_score\n",
    "\n",
    "X = data.drop('health_percent', axis=1)\n",
    "y = data['health_percent']\n",
    "\n",
    "X_train, X_test, y_train, y_test = train_test_split(X, y, test_size=0.2, random_state=42)\n",
    "\n",
    "model = LinearRegression()\n",
    "model.fit(X_train, y_train)\n",
    "\n",
    "# Predict and evaluate data WITH LINEAR REGRESSION \n",
    "\n",
    "preds = model.predict(X_test)\n",
    "mae = mean_absolute_error(y_test, preds) #HOW FAR IT IS DAMAGED \n",
    "r2 = r2_score(y_test, preds) # FOR CLOSENESS OF PREDICTION\n",
    "\n",
    "print(f\"Linear Regression MAE: {mae:.2f}\")\n",
    "print(f\"R² Score: {r2:.2f}\")"
   ]
  },
  {
   "cell_type": "code",
   "execution_count": 21,
   "id": "993a2e7e-2da3-43db-922f-4437479ef474",
   "metadata": {},
   "outputs": [
    {
     "name": "stdout",
     "output_type": "stream",
     "text": [
      "🔋 Reading 1: Predicted Health = 36.78%\n",
      "🔋 Reading 2: Predicted Health = 62.18%\n"
     ]
    }
   ],
   "source": [
    "# TESTING THE PREDICTION OF TWO BATTERY TEST\n",
    "\n",
    "test_batch = pd.DataFrame([\n",
    "    {'cycles': 600, 'temperature_C': 40, 'voltage_V': 3.6, 'current_A': 0.52, 'usage_hours': 2200},\n",
    "    {'cycles': 300, 'temperature_C': 35, 'voltage_V': 3.7, 'current_A': 0.48, 'usage_hours': 1100}\n",
    "])\n",
    "\n",
    "predicted_health = model.predict(test_batch)\n",
    "\n",
    "for i, health in enumerate(predicted_health, start=1):\n",
    "    print(f\"🔋 Reading {i}: Predicted Health = {health:.2f}%\")"
   ]
  },
  {
   "cell_type": "code",
   "execution_count": 29,
   "id": "5d0d5070-d128-4178-854b-a757d049fd66",
   "metadata": {},
   "outputs": [
    {
     "data": {
      "image/png": "[encoded data removed]",
      "text/plain": [
       "<Figure size 1000x600 with 1 Axes>"
      ]
     },
     "metadata": {},
     "output_type": "display_data"
    }
   ],
   "source": [
    "#PLOTTING ITS GRAPH \n",
    "\n",
    "import matplotlib.pyplot as plt\n",
    "import pandas as pd\n",
    "import numpy as np\n",
    "\n",
    "# Plotting\n",
    "plt.figure(figsize=(10, 6))\n",
    "bars = plt.bar(labels, all_preds, color=['skyblue']*10 + ['orange']*2)\n",
    "\n",
    "# Highlight the manual readings\n",
    "for i in range(10, 12):\n",
    "    bars[i].set_edgecolor('red')\n",
    "    bars[i].set_linewidth(2)\n",
    "\n",
    "plt.xticks(rotation=45)\n",
    "plt.ylabel('Predicted Health (%)')\n",
    "plt.title('Battery Health Predictions for 10 Simulated + 2 Manual Readings')\n",
    "plt.ylim(0, 110)\n",
    "plt.grid(True, axis='y', linestyle='--', alpha=0.5)\n",
    "plt.tight_layout()\n",
    "plt.show()"
   ]
  },
  {
   "cell_type": "code",
   "execution_count": null,
   "id": "afec460c-0d81-4599-98ee-b1f9ac9af3e1",
   "metadata": {},
   "outputs": [],
   "source": []
  }
 ],
 "metadata": {
  "kernelspec": {
   "display_name": "Python 3 (ipykernel)",
   "language": "python",
   "name": "python3"
  },
  "language_info": {
   "codemirror_mode": {
    "name": "ipython",
    "version": 3
   },
   "file_extension": ".py",
   "mimetype": "text/x-python",
   "name": "python",
   "nbconvert_exporter": "python",
   "pygments_lexer": "ipython3",
   "version": "3.13.5"
  }
 },
 "nbformat": 4,
 "nbformat_minor": 5
}
